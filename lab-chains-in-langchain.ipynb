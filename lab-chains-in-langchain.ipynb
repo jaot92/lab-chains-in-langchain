{
 "cells": [
  {
   "cell_type": "markdown",
   "id": "52824b89-532a-4e54-87e9-1410813cd39e",
   "metadata": {},
   "source": [
    "# Lab | Chains in LangChain\n",
    "\n",
    "## Outline\n",
    "\n",
    "* LLMChain\n",
    "* Sequential Chains\n",
    "  * SimpleSequentialChain\n",
    "  * SequentialChain\n",
    "* Router Chain"
   ]
  },
  {
   "cell_type": "code",
   "execution_count": 1,
   "id": "541eb2f1",
   "metadata": {},
   "outputs": [],
   "source": [
    "import warnings\n",
    "warnings.filterwarnings('ignore')"
   ]
  },
  {
   "cell_type": "code",
   "execution_count": 2,
   "id": "b7ed03ed-1322-49e3-b2a2-33e94fb592ef",
   "metadata": {
    "tags": []
   },
   "outputs": [],
   "source": [
    "import os\n",
    "\n",
    "from dotenv import load_dotenv, find_dotenv\n",
    "_ = load_dotenv(find_dotenv())\n",
    "\n",
    "OPENAI_API_KEY  = os.getenv('OPENAI_API_KEY')\n",
    "HUGGINGFACEHUB_API_TOKEN = os.getenv('HUGGINGFACEHUB_API_TOKEN')"
   ]
  },
  {
   "cell_type": "code",
   "execution_count": null,
   "id": "b84e441b",
   "metadata": {
    "tags": []
   },
   "outputs": [],
   "source": [
    "#!pip install pandas\n"
   ]
  },
  {
   "cell_type": "code",
   "execution_count": 3,
   "id": "974acf8e-8f88-42de-88f8-40a82cb58e8b",
   "metadata": {
    "tags": []
   },
   "outputs": [],
   "source": [
    "import pandas as pd\n",
    "df = pd.read_csv('./data/Data.csv')"
   ]
  },
  {
   "cell_type": "code",
   "execution_count": 4,
   "id": "b7a09c35",
   "metadata": {
    "tags": []
   },
   "outputs": [
    {
     "data": {
      "text/html": [
       "<div>\n",
       "<style scoped>\n",
       "    .dataframe tbody tr th:only-of-type {\n",
       "        vertical-align: middle;\n",
       "    }\n",
       "\n",
       "    .dataframe tbody tr th {\n",
       "        vertical-align: top;\n",
       "    }\n",
       "\n",
       "    .dataframe thead th {\n",
       "        text-align: right;\n",
       "    }\n",
       "</style>\n",
       "<table border=\"1\" class=\"dataframe\">\n",
       "  <thead>\n",
       "    <tr style=\"text-align: right;\">\n",
       "      <th></th>\n",
       "      <th>Product</th>\n",
       "      <th>Review</th>\n",
       "    </tr>\n",
       "  </thead>\n",
       "  <tbody>\n",
       "    <tr>\n",
       "      <th>0</th>\n",
       "      <td>Queen Size Sheet Set</td>\n",
       "      <td>I ordered a king size set. My only criticism w...</td>\n",
       "    </tr>\n",
       "    <tr>\n",
       "      <th>1</th>\n",
       "      <td>Waterproof Phone Pouch</td>\n",
       "      <td>I loved the waterproof sac, although the openi...</td>\n",
       "    </tr>\n",
       "    <tr>\n",
       "      <th>2</th>\n",
       "      <td>Luxury Air Mattress</td>\n",
       "      <td>This mattress had a small hole in the top of i...</td>\n",
       "    </tr>\n",
       "    <tr>\n",
       "      <th>3</th>\n",
       "      <td>Pillows Insert</td>\n",
       "      <td>This is the best throw pillow fillers on Amazo...</td>\n",
       "    </tr>\n",
       "    <tr>\n",
       "      <th>4</th>\n",
       "      <td>Milk Frother Handheld\\n</td>\n",
       "      <td>I loved this product. But they only seem to l...</td>\n",
       "    </tr>\n",
       "  </tbody>\n",
       "</table>\n",
       "</div>"
      ],
      "text/plain": [
       "                   Product                                             Review\n",
       "0     Queen Size Sheet Set  I ordered a king size set. My only criticism w...\n",
       "1   Waterproof Phone Pouch  I loved the waterproof sac, although the openi...\n",
       "2      Luxury Air Mattress  This mattress had a small hole in the top of i...\n",
       "3           Pillows Insert  This is the best throw pillow fillers on Amazo...\n",
       "4  Milk Frother Handheld\\n   I loved this product. But they only seem to l..."
      ]
     },
     "execution_count": 4,
     "metadata": {},
     "output_type": "execute_result"
    }
   ],
   "source": [
    "df.head()"
   ]
  },
  {
   "cell_type": "markdown",
   "id": "b940ce7c",
   "metadata": {},
   "source": [
    "## LLMChain"
   ]
  },
  {
   "cell_type": "code",
   "execution_count": 5,
   "id": "e92dff22",
   "metadata": {
    "tags": []
   },
   "outputs": [],
   "source": [
    "from langchain_openai import ChatOpenAI\n",
    "from langchain.prompts import ChatPromptTemplate\n",
    "from langchain.chains import LLMChain"
   ]
  },
  {
   "cell_type": "code",
   "execution_count": 10,
   "id": "943237a7",
   "metadata": {},
   "outputs": [],
   "source": [
    "#Replace None by your own value and justify\n",
    "llm = ChatOpenAI(temperature=0.5)\n",
    "# Usamos temperature=0.5 para mantener un balance entre creatividad y coherencia\n"
   ]
  },
  {
   "cell_type": "code",
   "execution_count": 11,
   "id": "cdcdb42d",
   "metadata": {},
   "outputs": [],
   "source": [
    "prompt = ChatPromptTemplate.from_template( #Write a query that would take a variable to describe any product \n",
    "    \"Actúa como un experto en marketing. Describe el siguiente producto {product} \" \n",
    "    \"de manera detallada, incluyendo sus características principales, beneficios \"\n",
    "    \"y posibles usos. La descripción debe ser persuasiva y profesional.\"\n",
    ")"
   ]
  },
  {
   "cell_type": "code",
   "execution_count": 12,
   "id": "d7abc20b",
   "metadata": {},
   "outputs": [],
   "source": [
    "\n",
    "chain = LLMChain(llm=llm, prompt=prompt)"
   ]
  },
  {
   "cell_type": "code",
   "execution_count": 13,
   "id": "ad44d1fb",
   "metadata": {},
   "outputs": [
    {
     "data": {
      "text/plain": [
       "'El juego de sábanas Queen Size Sheet Set es la elección perfecta para aquellos que buscan comodidad y estilo en su dormitorio. Este set incluye una sábana ajustable, una sábana plana y dos fundas de almohada, todo en tamaño queen size para adaptarse a colchones de hasta 152 cm de ancho.\\n\\nLas sábanas están confeccionadas con un suave y duradero tejido de microfibra, que proporciona una sensación de lujo y confort durante toda la noche. Su diseño elegante y minimalista se adapta a cualquier estilo de decoración, desde moderno hasta clásico, y está disponible en una amplia gama de colores para satisfacer los gustos de cada cliente.\\n\\nUna de las principales características de este set de sábanas es su fácil cuidado, ya que son resistentes a las arrugas y se pueden lavar a máquina para una limpieza rápida y sencilla. Además, su tejido transpirable y fresco garantiza una temperatura óptima para dormir, proporcionando una experiencia de descanso inigualable.\\n\\nLos beneficios de este producto son numerosos. Además de su calidad y durabilidad, las sábanas Queen Size Sheet Set ofrecen un ajuste perfecto al colchón, evitando que se deslicen o se suelten durante la noche. Su suavidad y confort son ideales para disfrutar de un sueño reparador y revitalizante, mientras que su diseño elegante y atemporal añade un toque de sofisticación a cualquier habitación.\\n\\nEste juego de sábanas es perfecto para uso diario en el hogar, así como para regalar a familiares y amigos en ocasiones especiales. Ya sea para renovar la ropa de cama de tu dormitorio o para sorprender a alguien con un regalo de calidad, el Queen Size Sheet Set es la elección ideal para aquellos que valoran la comodidad y el estilo en su hogar. ¡No esperes más y hazte con el tuyo hoy mismo!'"
      ]
     },
     "execution_count": 13,
     "metadata": {},
     "output_type": "execute_result"
    }
   ],
   "source": [
    "product = \"Queen Size Sheet Set\" #Select a product type to be describe\n",
    "chain.run(product)"
   ]
  },
  {
   "cell_type": "markdown",
   "id": "69b03469",
   "metadata": {},
   "source": [
    "## SimpleSequentialChain"
   ]
  },
  {
   "cell_type": "code",
   "execution_count": 14,
   "id": "febee243",
   "metadata": {},
   "outputs": [],
   "source": [
    "from langchain.chains import SimpleSequentialChain"
   ]
  },
  {
   "cell_type": "code",
   "execution_count": 15,
   "id": "2f31aa8a",
   "metadata": {},
   "outputs": [],
   "source": [
    "llm = ChatOpenAI(temperature=0.9)\n",
    "\n",
    "# prompt template 1\n",
    "first_prompt = ChatPromptTemplate.from_template(\n",
    "    #Repeat the initial query or create a new query that would feed into the second prompt\n",
    "    \"Actúa como un experto en marketing. Describe el siguiente producto {input} \"\n",
    "    \"de manera detallada, incluyendo sus características principales, beneficios \"\n",
    "    \"y casos de uso ideales. La descripción debe ser persuasiva y profesional.\"\n",
    ")\n",
    "\n",
    "# Chain 1\n",
    "chain_one = LLMChain(llm=llm, prompt=first_prompt)"
   ]
  },
  {
   "cell_type": "code",
   "execution_count": 16,
   "id": "3f5d5b76",
   "metadata": {},
   "outputs": [],
   "source": [
    "\n",
    "# prompt template 2\n",
    "second_prompt = ChatPromptTemplate.from_template(\n",
    "    #Write the second prompt query that takes an input variable whose input will come from the previous prompt\"\n",
    "    \"Basándote en la siguiente descripción de producto: {input}\\n\"\n",
    "    \"Genera una lista de 5 preguntas frecuentes (FAQ) que los clientes podrían tener \"\n",
    "    \"sobre este producto, junto con sus respuestas detalladas.\"\n",
    ")\n",
    "# chain 2\n",
    "chain_two = LLMChain(llm=llm, prompt=second_prompt)"
   ]
  },
  {
   "cell_type": "code",
   "execution_count": 17,
   "id": "6c1eb2c4",
   "metadata": {},
   "outputs": [],
   "source": [
    "overall_simple_chain = SimpleSequentialChain(chains=[chain_one, chain_two],\n",
    "                                             verbose=True\n",
    "                                            )"
   ]
  },
  {
   "cell_type": "code",
   "execution_count": 18,
   "id": "78458efe",
   "metadata": {},
   "outputs": [
    {
     "name": "stdout",
     "output_type": "stream",
     "text": [
      "\n",
      "\n",
      "\u001b[1m> Entering new SimpleSequentialChain chain...\u001b[0m\n",
      "\u001b[36;1m\u001b[1;3mEl juego de sábanas Queen Size Sheet Set es un producto de alta calidad que garantiza una experiencia de sueño incomparable. Confeccionado con los mejores materiales, este juego de sábanas está diseñado para brindar comodidad, suavidad y durabilidad excepcionales.\n",
      "\n",
      "Las características principales de este set de sábanas incluyen:\n",
      "\n",
      "- Tamaño Queen Size: Perfecto para colchones de tamaño queen, estas sábanas se ajustan de manera perfecta y cómoda.\n",
      "- Material de alta calidad: Fabricadas con fibras de primera calidad, estas sábanas son suaves al tacto y resistentes al desgaste.\n",
      "- Diseño elegante: Con un acabado elegante y sofisticado, este set de sábanas añadirá un toque de estilo a cualquier dormitorio.\n",
      "- Fácil cuidado: Son fáciles de lavar y mantener, lo que garantiza que se mantengan en perfectas condiciones por mucho tiempo.\n",
      "\n",
      "Los beneficios de utilizar el Queen Size Sheet Set son innumerables. Algunos de los beneficios más destacados incluyen:\n",
      "\n",
      "- Mejora la calidad del sueño: La suavidad y comodidad de estas sábanas garantizan un descanso reparador y revitalizante.\n",
      "- Durabilidad: Gracias a su alta calidad de construcción, estas sábanas resistirán el paso del tiempo y mantendrán su apariencia como nuevas.\n",
      "- Estilo: El diseño elegante de este set de sábanas añadirá un toque de sofisticación y elegancia a cualquier habitación.\n",
      "\n",
      "Los casos de uso ideales para el Queen Size Sheet Set son aquellos en los que se busca mejorar la calidad del descanso y crear un ambiente de lujo en la habitación. Ya sea para uso personal o para sorprender a tus invitados, este set de sábanas es la elección perfecta.\n",
      "\n",
      "En resumen, el Queen Size Sheet Set es la elección ideal para quienes buscan comodidad, estilo y durabilidad en un juego de sábanas de alta calidad. ¡No te arrepentirás de invertir en este producto excepcional!\u001b[0m\n",
      "\u001b[33;1m\u001b[1;3m1. P: ¿Este juego de sábanas viene en diferentes colores?\n",
      "   R: Sí, el Queen Size Sheet Set está disponible en una variedad de colores para que puedas elegir el que mejor se adapte a la decoración de tu habitación.\n",
      "\n",
      "2. P: ¿Es fácil de lavar este set de sábanas?\n",
      "   R: Sí, las sábanas del Queen Size Sheet Set son fáciles de lavar a máquina y mantener. Se recomienda seguir las instrucciones de cuidado del producto para garantizar su durabilidad.\n",
      "\n",
      "3. P: ¿Las sábanas de este set se ajustan bien al colchón?\n",
      "   R: Sí, las sábanas Queen Size Sheet Set están diseñadas para ajustarse perfectamente a colchones de tamaño queen, garantizando un ajuste cómodo y seguro.\n",
      "\n",
      "4. P: ¿Qué material se utiliza en la fabricación de estas sábanas?\n",
      "   R: Estas sábanas están confeccionadas con fibras de alta calidad que son suaves al tacto y resistentes al desgaste, garantizando una experiencia de sueño incomparable.\n",
      "\n",
      "5. P: ¿Cuál es la garantía de este producto?\n",
      "   R: El Queen Size Sheet Set está respaldado por una garantía de satisfacción del cliente. Si no estás completamente satisfecho con tu compra, por favor contáctanos para resolver cualquier problema que puedas tener.\u001b[0m\n",
      "\n",
      "\u001b[1m> Finished chain.\u001b[0m\n"
     ]
    },
    {
     "data": {
      "text/plain": [
       "'1. P: ¿Este juego de sábanas viene en diferentes colores?\\n   R: Sí, el Queen Size Sheet Set está disponible en una variedad de colores para que puedas elegir el que mejor se adapte a la decoración de tu habitación.\\n\\n2. P: ¿Es fácil de lavar este set de sábanas?\\n   R: Sí, las sábanas del Queen Size Sheet Set son fáciles de lavar a máquina y mantener. Se recomienda seguir las instrucciones de cuidado del producto para garantizar su durabilidad.\\n\\n3. P: ¿Las sábanas de este set se ajustan bien al colchón?\\n   R: Sí, las sábanas Queen Size Sheet Set están diseñadas para ajustarse perfectamente a colchones de tamaño queen, garantizando un ajuste cómodo y seguro.\\n\\n4. P: ¿Qué material se utiliza en la fabricación de estas sábanas?\\n   R: Estas sábanas están confeccionadas con fibras de alta calidad que son suaves al tacto y resistentes al desgaste, garantizando una experiencia de sueño incomparable.\\n\\n5. P: ¿Cuál es la garantía de este producto?\\n   R: El Queen Size Sheet Set está respaldado por una garantía de satisfacción del cliente. Si no estás completamente satisfecho con tu compra, por favor contáctanos para resolver cualquier problema que puedas tener.'"
      ]
     },
     "execution_count": 18,
     "metadata": {},
     "output_type": "execute_result"
    }
   ],
   "source": [
    "overall_simple_chain.run(product)"
   ]
  },
  {
   "cell_type": "code",
   "execution_count": 19,
   "id": "39aef2a3",
   "metadata": {},
   "outputs": [
    {
     "name": "stdout",
     "output_type": "stream",
     "text": [
      "\n",
      "\n",
      "\u001b[1m> Entering new SimpleSequentialChain chain...\u001b[0m\n",
      "\u001b[36;1m\u001b[1;3mEl Waterproof Phone Pouch es un accesorio imprescindible para cualquier persona que quiera mantener su teléfono protegido de agua, arena, polvo y cualquier otro elemento que pueda dañarlo. Este innovador pouch está diseñado con materiales de alta calidad que garantizan la impermeabilidad de su teléfono, permitiéndole tomar fotos, enviar mensajes y realizar llamadas incluso bajo el agua.\n",
      "\n",
      "Las principales características de este producto incluyen su ajuste perfecto para la mayoría de los teléfonos móviles, su sello hermético que protege contra el agua hasta 10 metros de profundidad, su correa ajustable para llevarlo cómodamente alrededor del cuello o la muñeca, y su pantalla táctil transparente que le permite utilizar su teléfono sin necesidad de sacarlo del pouch.\n",
      "\n",
      "Los beneficios de utilizar el Waterproof Phone Pouch son numerosos. En primer lugar, protege su teléfono de daños por agua, evitando costosas reparaciones o la pérdida de datos importantes. Además, le permite tomar fotos y videos bajo el agua con una claridad excepcional, lo que le brinda la oportunidad de capturar momentos inolvidables en la piscina, la playa o durante actividades acuáticas. También es ideal para llevar su teléfono mientras practica deportes al aire libre como senderismo, ciclismo o kayak, manteniéndolo seguro y seco en todo momento.\n",
      "\n",
      "En resumen, el Waterproof Phone Pouch es el accesorio perfecto para mantener su teléfono protegido en todo momento y disfrutar de todas sus funciones incluso en entornos acuáticos o adversos. No espere más y adquiera este producto innovador que le brindará tranquilidad y comodidad en todas sus actividades al aire libre. ¡Proteja su teléfono con estilo con el Waterproof Phone Pouch!\u001b[0m\n",
      "\u001b[33;1m\u001b[1;3m1. ¿Mi teléfono realmente estará protegido de agua hasta 10 metros de profundidad?\n",
      "Respuesta: Sí, el Waterproof Phone Pouch está diseñado con un sello hermético que garantiza la impermeabilidad de su teléfono hasta 10 metros de profundidad. Puede estar tranquilo al utilizar su teléfono en piscinas, playas o durante actividades acuáticas.\n",
      "\n",
      "2. ¿Puedo seguir utilizando todas las funciones de mi teléfono dentro del pouch, como tomar fotos o enviar mensajes?\n",
      "Respuesta: Sí, el Waterproof Phone Pouch cuenta con una pantalla táctil transparente que le permite utilizar todas las funciones de su teléfono sin necesidad de sacarlo del pouch. Puede tomar fotos, enviar mensajes y realizar llamadas sin problemas mientras mantiene su teléfono protegido.\n",
      "\n",
      "3. ¿Mi teléfono se ajustará correctamente en el pouch si tiene una funda protectora?\n",
      "Respuesta: El Waterproof Phone Pouch está diseñado para adaptarse a la mayoría de los teléfonos móviles, incluyendo aquellos que tienen fundas protectoras. Su ajuste perfecto garantiza que su teléfono esté seguro y protegido sin importar el tamaño o grosor de la funda.\n",
      "\n",
      "4. ¿Es cómodo llevar el Waterproof Phone Pouch alrededor del cuello o la muñeca?\n",
      "Respuesta: Sí, el pouch cuenta con una correa ajustable que le permite llevarlo cómodamente alrededor del cuello o la muñeca. La correa se adapta a diferentes tamaños y le brinda la libertad de moverse sin preocuparse por la seguridad de su teléfono.\n",
      "\n",
      "5. ¿El Waterproof Phone Pouch es adecuado para actividades al aire libre como senderismo o ciclismo?\n",
      "Respuesta: Sí, el Waterproof Phone Pouch es ideal para llevar su teléfono mientras practica deportes al aire libre. Su diseño resistente protege su teléfono de agua, arena, polvo y otros elementos dañinos, permitiéndole disfrutar de sus actividades sin preocupaciones. ¡Proteja su teléfono con estilo en todas sus aventuras!\u001b[0m\n",
      "\n",
      "\u001b[1m> Finished chain.\u001b[0m\n"
     ]
    },
    {
     "data": {
      "text/plain": [
       "'1. ¿Mi teléfono realmente estará protegido de agua hasta 10 metros de profundidad?\\nRespuesta: Sí, el Waterproof Phone Pouch está diseñado con un sello hermético que garantiza la impermeabilidad de su teléfono hasta 10 metros de profundidad. Puede estar tranquilo al utilizar su teléfono en piscinas, playas o durante actividades acuáticas.\\n\\n2. ¿Puedo seguir utilizando todas las funciones de mi teléfono dentro del pouch, como tomar fotos o enviar mensajes?\\nRespuesta: Sí, el Waterproof Phone Pouch cuenta con una pantalla táctil transparente que le permite utilizar todas las funciones de su teléfono sin necesidad de sacarlo del pouch. Puede tomar fotos, enviar mensajes y realizar llamadas sin problemas mientras mantiene su teléfono protegido.\\n\\n3. ¿Mi teléfono se ajustará correctamente en el pouch si tiene una funda protectora?\\nRespuesta: El Waterproof Phone Pouch está diseñado para adaptarse a la mayoría de los teléfonos móviles, incluyendo aquellos que tienen fundas protectoras. Su ajuste perfecto garantiza que su teléfono esté seguro y protegido sin importar el tamaño o grosor de la funda.\\n\\n4. ¿Es cómodo llevar el Waterproof Phone Pouch alrededor del cuello o la muñeca?\\nRespuesta: Sí, el pouch cuenta con una correa ajustable que le permite llevarlo cómodamente alrededor del cuello o la muñeca. La correa se adapta a diferentes tamaños y le brinda la libertad de moverse sin preocuparse por la seguridad de su teléfono.\\n\\n5. ¿El Waterproof Phone Pouch es adecuado para actividades al aire libre como senderismo o ciclismo?\\nRespuesta: Sí, el Waterproof Phone Pouch es ideal para llevar su teléfono mientras practica deportes al aire libre. Su diseño resistente protege su teléfono de agua, arena, polvo y otros elementos dañinos, permitiéndole disfrutar de sus actividades sin preocupaciones. ¡Proteja su teléfono con estilo en todas sus aventuras!'"
      ]
     },
     "execution_count": 19,
     "metadata": {},
     "output_type": "execute_result"
    }
   ],
   "source": [
    "product = \"Waterproof Phone Pouch\"\n",
    "overall_simple_chain.run(product)"
   ]
  },
  {
   "cell_type": "code",
   "execution_count": 20,
   "id": "c221da8d",
   "metadata": {},
   "outputs": [
    {
     "name": "stdout",
     "output_type": "stream",
     "text": [
      "\n",
      "\n",
      "\u001b[1m> Entering new SimpleSequentialChain chain...\u001b[0m\n",
      "\u001b[36;1m\u001b[1;3mLos AirPods de Apple son los auriculares inalámbricos más populares y avanzados del mercado, diseñados para ofrecer la máxima comodidad y calidad de sonido a los usuarios. Con un diseño elegante y compacto, los AirPods son la combinación perfecta de estilo y tecnología.\n",
      "\n",
      "Una de las principales características de los AirPods es su conectividad inalámbrica, que permite a los usuarios disfrutar de la música, podcasts y llamadas telefónicas sin cables ni complicaciones. Gracias a su chip H1 de Apple, los AirPods ofrecen una conexión más estable y rápida, así como una mayor eficiencia en la gestión de la batería.\n",
      "\n",
      "Además, los AirPods cuentan con sensores ópticos y acelerómetros que detectan cuando los usuarios los colocan en sus oídos, pausando automáticamente la reproducción cuando se quitan uno o ambos auriculares. Esta característica, junto con la tecnología de cancelación de ruido, garantiza una experiencia auditiva inigualable.\n",
      "\n",
      "Los beneficios de los AirPods son numerosos. Su diseño ergonómico y ligero los hace ideales para llevar a cualquier parte, ya sea para hacer ejercicio, trabajar o simplemente relajarse. La calidad de sonido de los AirPods es excepcional, con graves profundos y agudos claros que permiten disfrutar de la música en su forma más pura.\n",
      "\n",
      "Los AirPods son ideales para aquellos que buscan la máxima comodidad y libertad al escuchar música o recibir llamadas, sin tener que lidiar con cables enredados o auriculares incómodos. Ya sea en el gimnasio, en la oficina o en casa, los AirPods son el compañero perfecto para disfrutar de una experiencia auditiva excepcional en cualquier momento y lugar. Con los AirPods, Apple ha vuelto a redefinir la forma en que escuchamos música. ¡No esperes más y descubre la libertad de los AirPods!\u001b[0m\n",
      "\u001b[33;1m\u001b[1;3m1. ¿Los AirPods son compatibles con todos los dispositivos Apple?\n",
      "Respuesta: Sí, los AirPods son compatibles con todos los dispositivos Apple que tengan Bluetooth, como iPhone, iPad, Mac y Apple Watch.\n",
      "\n",
      "2. ¿Cuánto tiempo dura la batería de los AirPods?\n",
      "Respuesta: Los AirPods ofrecen hasta 5 horas de reproducción de música o hasta 3 horas de llamadas con una sola carga. Además, el estuche de carga proporciona varias cargas adicionales para un total de más de 24 horas de reproducción.\n",
      "\n",
      "3. ¿Los AirPods son resistentes al agua?\n",
      "Respuesta: Los AirPods no son impermeables, por lo que se recomienda no sumergirlos en agua. Sin embargo, son resistentes al sudor y al agua en pequeñas cantidades, por lo que puedes usarlos durante el ejercicio sin problema.\n",
      "\n",
      "4. ¿Cómo se controlan los AirPods?\n",
      "Respuesta: Los AirPods se pueden controlar mediante comandos de voz con Siri, tocando los auriculares para reproducir/pausar la música o contestar llamadas, y configurando gestos en los dispositivos Apple conectados.\n",
      "\n",
      "5. ¿Los AirPods tienen garantía?\n",
      "Respuesta: Sí, los AirPods vienen con una garantía limitada de un año que cubre defectos de fabricación. Además, Apple ofrece la posibilidad de adquirir un plan de protección AppleCare+ para ampliar la cobertura y recibir asistencia técnica adicional.\u001b[0m\n",
      "\n",
      "\u001b[1m> Finished chain.\u001b[0m\n"
     ]
    },
    {
     "data": {
      "text/plain": [
       "'1. ¿Los AirPods son compatibles con todos los dispositivos Apple?\\nRespuesta: Sí, los AirPods son compatibles con todos los dispositivos Apple que tengan Bluetooth, como iPhone, iPad, Mac y Apple Watch.\\n\\n2. ¿Cuánto tiempo dura la batería de los AirPods?\\nRespuesta: Los AirPods ofrecen hasta 5 horas de reproducción de música o hasta 3 horas de llamadas con una sola carga. Además, el estuche de carga proporciona varias cargas adicionales para un total de más de 24 horas de reproducción.\\n\\n3. ¿Los AirPods son resistentes al agua?\\nRespuesta: Los AirPods no son impermeables, por lo que se recomienda no sumergirlos en agua. Sin embargo, son resistentes al sudor y al agua en pequeñas cantidades, por lo que puedes usarlos durante el ejercicio sin problema.\\n\\n4. ¿Cómo se controlan los AirPods?\\nRespuesta: Los AirPods se pueden controlar mediante comandos de voz con Siri, tocando los auriculares para reproducir/pausar la música o contestar llamadas, y configurando gestos en los dispositivos Apple conectados.\\n\\n5. ¿Los AirPods tienen garantía?\\nRespuesta: Sí, los AirPods vienen con una garantía limitada de un año que cubre defectos de fabricación. Además, Apple ofrece la posibilidad de adquirir un plan de protección AppleCare+ para ampliar la cobertura y recibir asistencia técnica adicional.'"
      ]
     },
     "execution_count": 20,
     "metadata": {},
     "output_type": "execute_result"
    }
   ],
   "source": [
    "product = \"Airpods\"\n",
    "overall_simple_chain.run(product)"
   ]
  },
  {
   "cell_type": "markdown",
   "id": "0dd59bda-9d02-44e7-b3d6-2bec61b99d8f",
   "metadata": {},
   "source": [
    "**Repeat the above twice for different products**"
   ]
  },
  {
   "cell_type": "markdown",
   "id": "7b5ce18c",
   "metadata": {},
   "source": [
    "## SequentialChain"
   ]
  },
  {
   "cell_type": "code",
   "execution_count": 21,
   "id": "4c129ef6",
   "metadata": {},
   "outputs": [],
   "source": [
    "from langchain.chains import SequentialChain"
   ]
  },
  {
   "cell_type": "code",
   "execution_count": 23,
   "id": "016187ac",
   "metadata": {},
   "outputs": [],
   "source": [
    "llm = ChatOpenAI(temperature=0.9)\n",
    "\n",
    "\n",
    "first_prompt = ChatPromptTemplate.from_template(\n",
    "  #This prompt should translate a review\n",
    "  \"Traduce la siguiente reseña al español:\\n{review}\"\n",
    ")\n",
    "\n",
    "chain_one = LLMChain(llm=llm, prompt=first_prompt, \n",
    "                     output_key=\"spanish_review\" #Give a name to your output\n",
    "                    )\n"
   ]
  },
  {
   "cell_type": "code",
   "execution_count": 24,
   "id": "0fb0730e",
   "metadata": {},
   "outputs": [],
   "source": [
    "second_prompt = ChatPromptTemplate.from_template(\n",
    "    #Write a promplt to summarize a review\n",
    "    \"Resume los puntos principales de esta reseña en 3 bullets points:\\n{review}\"\n",
    ")\n",
    "\n",
    "chain_two = LLMChain(llm=llm, prompt=second_prompt, \n",
    "                     output_key=\"summary\" #give a name to this output\n",
    "                    )\n"
   ]
  },
  {
   "cell_type": "code",
   "execution_count": 25,
   "id": "6accf92d",
   "metadata": {},
   "outputs": [],
   "source": [
    "# prompt template 3: translate to english or other language\n",
    "third_prompt = ChatPromptTemplate.from_template(\n",
    "    \"Traduce la siguiente reseña al francés:\\n{review}\"\n",
    ")\n",
    "# chain 3: input= Review and output= language\n",
    "chain_three = LLMChain(llm=llm, prompt=third_prompt,\n",
    "                       output_key=\"french_review\"\n",
    "                      )\n"
   ]
  },
  {
   "cell_type": "code",
   "execution_count": 26,
   "id": "c7a46121",
   "metadata": {},
   "outputs": [],
   "source": [
    "\n",
    "# prompt template 4: follow up message that take as inputs the two previous prompts' variables\n",
    "fourth_prompt = ChatPromptTemplate.from_template(\n",
    "        \"\"\"Basándote en esta reseña resumida: {summary}\n",
    "        Y considerando que tenemos la reseña en español: {spanish_review}\n",
    "        Y en francés: {french_review}\n",
    "    \n",
    "        Genera un mensaje de seguimiento personalizado para el cliente, \n",
    "        agradeciendo su reseña y abordando los puntos principales mencionados.\"\"\"\n",
    ")\n",
    "chain_four = LLMChain(llm=llm, prompt=fourth_prompt,\n",
    "                      output_key=\"followup_message\"\n",
    "                     )\n"
   ]
  },
  {
   "cell_type": "code",
   "execution_count": 27,
   "id": "89603117",
   "metadata": {},
   "outputs": [],
   "source": [
    "# overall_chain: input= Review \n",
    "# and output= English_Review,summary, followup_message\n",
    "overall_chain = SequentialChain(\n",
    "    chains=[chain_one, chain_two, chain_three, chain_four],\n",
    "    input_variables=[\"review\"],\n",
    "    output_variables=[\"spanish_review\", \"summary\", \"french_review\", \"followup_message\"],\n",
    "    verbose=True\n",
    ")"
   ]
  },
  {
   "cell_type": "code",
   "execution_count": 28,
   "id": "51b04f45",
   "metadata": {},
   "outputs": [
    {
     "name": "stderr",
     "output_type": "stream",
     "text": [
      "/var/folders/zf/26z9dj9s4rgb9txx_1j9fkv80000gn/T/ipykernel_159/1992003631.py:2: LangChainDeprecationWarning: The method `Chain.__call__` was deprecated in langchain 0.1.0 and will be removed in 1.0. Use :meth:`~invoke` instead.\n",
      "  overall_chain(review)\n"
     ]
    },
    {
     "name": "stdout",
     "output_type": "stream",
     "text": [
      "\n",
      "\n",
      "\u001b[1m> Entering new SequentialChain chain...\u001b[0m\n",
      "\n",
      "\u001b[1m> Finished chain.\u001b[0m\n"
     ]
    },
    {
     "data": {
      "text/plain": [
       "{'review': \"Je trouve le goût médiocre. La mousse ne tient pas, c'est bizarre. J'achète les mêmes dans le commerce et le goût est bien meilleur...\\nVieux lot ou contrefaçon !?\",\n",
       " 'spanish_review': 'Encuentro el sabor mediocre. La espuma no se mantiene, es extraño. Compro los mismos en el comercio y el sabor es mucho mejor... ¿Lote viejo o falsificación!?',\n",
       " 'summary': '- Goût médiocre\\n- Mousse qui ne tient pas\\n- Possibilité de contrefaçon ou vieux lot',\n",
       " 'french_review': \"Je trouve que le goût est médiocre. La mousse ne tient pas, c'est étrange. J'achète les mêmes produits en magasin et le goût est bien meilleur... Est-ce un vieux lot ou une contrefaçon ?\",\n",
       " 'followup_message': 'Estimado/a cliente,\\n\\nQueríamos agradecerle por tomarse el tiempo de dejarnos su opinión sobre nuestro producto. Lamentamos mucho escuchar que encontró que el sabor era mediocre y que la espuma no se mantuvo como esperaba. Queremos asegurarle que tomamos muy en serio la calidad de nuestros productos y trabajamos constantemente para garantizar que nuestros clientes reciban lo mejor.\\n\\nEs importante para nosotros investigar más a fondo su comentario sobre la posibilidad de un lote viejo o una contrefaçon. Nos gustaría poder abordar este problema de inmediato y asegurarnos de que usted reciba un producto de calidad en el futuro. ¿Podría proporcionarnos más detalles sobre su compra para investigar este asunto?\\n\\nNuevamente, gracias por su retroalimentación honesta y por ser parte de nuestra comunidad de clientes. Esperamos poder resolver este problema y recuperar su confianza en nuestros productos.\\n\\nAtentamente,\\nEquipo de Atención al Cliente'}"
      ]
     },
     "execution_count": 28,
     "metadata": {},
     "output_type": "execute_result"
    }
   ],
   "source": [
    "review = df.Review[5]\n",
    "overall_chain(review)"
   ]
  },
  {
   "cell_type": "code",
   "execution_count": 29,
   "id": "14e85d73",
   "metadata": {},
   "outputs": [
    {
     "name": "stdout",
     "output_type": "stream",
     "text": [
      "\n",
      "\n",
      "\u001b[1m> Entering new SequentialChain chain...\u001b[0m\n",
      "\n",
      "\u001b[1m> Finished chain.\u001b[0m\n"
     ]
    },
    {
     "data": {
      "text/plain": [
       "{'review': 'This is the best throw pillow fillers on Amazon. I’ve tried several others, and they’re all cheap and flat no matter how much fluffing you do. Once you toss these in the dryer after you remove them from the vacuum sealed shipping material, they fluff up great',\n",
       " 'spanish_review': 'Estos son los mejores rellenos de cojines en Amazon. He probado varios otros y todos son baratos y planos sin importar cuánto los esponjes. Una vez que los pongas en la secadora después de sacarlos del embalaje sellado al vacío, se esponjan muy bien.',\n",
       " 'summary': '- Best throw pillow fillers on Amazon\\n- Fluff up great after drying in the dryer\\n- Other fillers are cheap and flat',\n",
       " 'french_review': \"Ceci est le meilleur rembourrage de coussin sur Amazon. J'ai essayé plusieurs autres, et ils sont tous bon marché et plats, peu importe combien de fois vous les gonflez. Une fois que vous les mettez dans le sèche-linge après les avoir sortis de l'emballage sous vide, ils se regonflent parfaitement.\",\n",
       " 'followup_message': \"Bonjour,\\n\\nNous tenons à vous remercier pour votre commentaire sur nos rellenos de cojines. Nous sommes ravis de savoir que vous les trouvez de haute qualité et qu'ils se regonflent parfaitement après les avoir mis dans la sécheuse. Chez nous, nous nous efforçons de fournir des produits de qualité supérieure qui répondent aux attentes de nos clients.\\n\\nNous sommes désolés d'apprendre que vous avez été déçu par d'autres rembourrages de coussins bon marché et plats. Nous comprenons l'importance d'avoir des coussins bien rembourrés et nous sommes fiers de vous offrir des produits qui répondent à vos besoins.\\n\\nN'hésitez pas à nous contacter si vous avez d'autres questions ou commentaires. Nous sommes là pour vous aider et nous espérons que vous continuerez à apprécier nos produits.\\n\\nMerci encore pour votre soutien et votre confiance en notre marque.\\n\\nCordialement, \\nL'équipe de [Votre entreprise]\"}"
      ]
     },
     "execution_count": 29,
     "metadata": {},
     "output_type": "execute_result"
    }
   ],
   "source": [
    "review = df.Review[3]\n",
    "overall_chain(review)"
   ]
  },
  {
   "cell_type": "code",
   "execution_count": 32,
   "id": "7024306d",
   "metadata": {},
   "outputs": [
    {
     "name": "stdout",
     "output_type": "stream",
     "text": [
      "\n",
      "\n",
      "\u001b[1m> Entering new SequentialChain chain...\u001b[0m\n",
      "\n",
      "\u001b[1m> Finished chain.\u001b[0m\n"
     ]
    },
    {
     "data": {
      "text/plain": [
       "{'review': 'I loved the waterproof sac, although the opening was made of a hard plastic. I don’t know if that would break easily. But I couldn’t turn my phone on, once it was in the pouch.',\n",
       " 'spanish_review': 'Me encantó la bolsa impermeable, aunque la abertura estaba hecha de plástico duro. No sé si se rompería fácilmente. Pero no pude encender mi teléfono una vez que estaba en la bolsa.',\n",
       " 'summary': \"- Waterproof sac with hard plastic opening\\n- Concern about durability of opening\\n- Phone couldn't be turned on while in pouch\",\n",
       " 'french_review': \"J'ai adoré le sac étanche, bien que l'ouverture soit en plastique dur. Je ne sais pas si cela se casserait facilement. Mais je n'ai pas pu allumer mon téléphone une fois qu'il était dans la pochette.\",\n",
       " 'followup_message': '¡Hola!\\n\\n¡Gracias por compartir tu experiencia con nuestra bolsa impermeable! Nos alegra mucho saber que te encantó, aunque entendemos tus preocupaciones sobre la durabilidad de la abertura de plástico duro. Estamos constantemente buscando formas de mejorar nuestros productos, por lo que tu comentario es muy valioso para nosotros.\\n\\nLamentamos mucho que no pudieras encender tu teléfono mientras estaba en la bolsa, y agradecemos que nos lo hayas mencionado. Tomaremos en cuenta este punto para futuras mejoras en el diseño de nuestros productos.\\n\\n¡Gracias de nuevo por tu reseña y por elegir nuestros productos! Si necesitas algo más, no dudes en ponerte en contacto con nosotros.\\n\\n¡Que tengas un excelente día!'}"
      ]
     },
     "execution_count": 32,
     "metadata": {},
     "output_type": "execute_result"
    }
   ],
   "source": [
    "review = df.Review[1]\n",
    "overall_chain(review)"
   ]
  },
  {
   "cell_type": "markdown",
   "id": "3187cf07-458a-4226-bec7-3dec7ee47af2",
   "metadata": {},
   "source": [
    "**Repeat the above twice for different products or reviews**"
   ]
  },
  {
   "cell_type": "markdown",
   "id": "3041ea4c",
   "metadata": {},
   "source": [
    "## Router Chain"
   ]
  },
  {
   "cell_type": "code",
   "execution_count": 49,
   "id": "ade83f4f",
   "metadata": {},
   "outputs": [],
   "source": [
    "physics_template = \"\"\"You are a very smart physics professor. \\\n",
    "You are great at answering questions about physics in a concise\\\n",
    "and easy to understand manner. \\\n",
    "When you don't know the answer to a question you admit\\\n",
    "that you don't know.\n",
    "\n",
    "Here is a question:\n",
    "{input}\"\"\"\n",
    "\n",
    "\n",
    "math_template = \"\"\"You are a very good mathematician. \\\n",
    "You are great at answering math questions. \\\n",
    "You are so good because you are able to break down \\\n",
    "hard problems into their component parts, \n",
    "answer the component parts, and then put them together\\\n",
    "to answer the broader question.\n",
    "\n",
    "Here is a question:\n",
    "{input}\"\"\"\n",
    "\n",
    "history_template = \"\"\"You are a very good historian. \\\n",
    "You have an excellent knowledge of and understanding of people,\\\n",
    "events and contexts from a range of historical periods. \\\n",
    "You have the ability to think, reflect, debate, discuss and \\\n",
    "evaluate the past. You have a respect for historical evidence\\\n",
    "and the ability to make use of it to support your explanations \\\n",
    "and judgements.\n",
    "\n",
    "Here is a question:\n",
    "{input}\"\"\"\n",
    "\n",
    "\n",
    "computerscience_template = \"\"\" You are a successful computer scientist.\\\n",
    "You have a passion for creativity, collaboration,\\\n",
    "forward-thinking, confidence, strong problem-solving capabilities,\\\n",
    "understanding of theories and algorithms, and excellent communication \\\n",
    "skills. You are great at answering coding questions. \\\n",
    "You are so good because you know how to solve a problem by \\\n",
    "describing the solution in imperative steps \\\n",
    "that a machine can easily interpret and you know how to \\\n",
    "choose a solution that has a good balance between \\\n",
    "time complexity and space complexity. \n",
    "\n",
    "Here is a question:\n",
    "{input}\"\"\"\n",
    "\n",
    "biology_template = \"\"\"You are a very knowledgeable biology professor. \\\n",
    "You have extensive knowledge of living organisms, their structure, function, \\\n",
    "growth, evolution, distribution and taxonomy. You are great at explaining \\\n",
    "complex biological concepts in an easy to understand way. \\\n",
    "You can effectively communicate about cells, genetics, evolution, \\\n",
    "organisms and ecosystems. When you don't know something, you \\\n",
    "clearly state that you don't know.\n",
    "\n",
    "Here is a question:\n",
    "{input}\"\"\"\n"
   ]
  },
  {
   "cell_type": "code",
   "execution_count": 50,
   "id": "5f590e9f",
   "metadata": {},
   "outputs": [],
   "source": [
    "prompt_infos = [\n",
    "    {\n",
    "        \"name\": \"physics\", \n",
    "        \"description\": \"Good for answering questions about physics\", \n",
    "        \"prompt_template\": physics_template\n",
    "    },\n",
    "    {\n",
    "        \"name\": \"math\", \n",
    "        \"description\": \"Good for answering math questions\", \n",
    "        \"prompt_template\": math_template\n",
    "    },\n",
    "    {\n",
    "        \"name\": \"History\", \n",
    "        \"description\": \"Good for answering history questions\", \n",
    "        \"prompt_template\": history_template\n",
    "    },\n",
    "    {\n",
    "        \"name\": \"computer science\", \n",
    "        \"description\": \"Good for answering computer science questions\", \n",
    "        \"prompt_template\": computerscience_template\n",
    "    },\n",
    "    {\n",
    "        \"name\": \"biology\", \n",
    "        \"description\": \"Good for answering biology questions\", \n",
    "        \"prompt_template\": biology_template\n",
    "    }\n",
    "]"
   ]
  },
  {
   "cell_type": "code",
   "execution_count": 35,
   "id": "31b06fc8",
   "metadata": {},
   "outputs": [],
   "source": [
    "from langchain.chains.router import MultiPromptChain\n",
    "from langchain.chains.router.llm_router import LLMRouterChain,RouterOutputParser\n",
    "from langchain.prompts import PromptTemplate"
   ]
  },
  {
   "cell_type": "code",
   "execution_count": 51,
   "id": "f3f50bcc",
   "metadata": {},
   "outputs": [],
   "source": [
    "llm = ChatOpenAI(temperature=0)"
   ]
  },
  {
   "cell_type": "code",
   "execution_count": 52,
   "id": "8eefec24",
   "metadata": {},
   "outputs": [],
   "source": [
    "destination_chains = {}\n",
    "for p_info in prompt_infos:\n",
    "    name = p_info[\"name\"]\n",
    "    prompt_template = p_info[\"prompt_template\"]\n",
    "    prompt = ChatPromptTemplate.from_template(template=prompt_template)\n",
    "    chain = LLMChain(llm=llm, prompt=prompt)\n",
    "    destination_chains[name] = chain  \n",
    "    \n",
    "destinations = [f\"{p['name']}: {p['description']}\" for p in prompt_infos]\n",
    "destinations_str = \"\\n\".join(destinations)"
   ]
  },
  {
   "cell_type": "code",
   "execution_count": 53,
   "id": "9f98018a",
   "metadata": {},
   "outputs": [],
   "source": [
    "default_prompt = ChatPromptTemplate.from_template(\"{input}\")\n",
    "default_chain = LLMChain(llm=llm, prompt=default_prompt)"
   ]
  },
  {
   "cell_type": "code",
   "execution_count": 54,
   "id": "11b2e2ba",
   "metadata": {},
   "outputs": [],
   "source": [
    "MULTI_PROMPT_ROUTER_TEMPLATE = \"\"\"Given a raw text input to a \\\n",
    "language model select the model prompt best suited for the input. \\\n",
    "You will be given the names of the available prompts and a \\\n",
    "description of what the prompt is best suited for. \\\n",
    "You may also revise the original input if you think that revising\\\n",
    "it will ultimately lead to a better response from the language model.\n",
    "\n",
    "<< FORMATTING >>\n",
    "Return a markdown code snippet with a JSON object formatted to look like:\n",
    "```json\n",
    "{{{{\n",
    "    \"destination\": string \\ name of the prompt to use or \"DEFAULT\"\n",
    "    \"next_inputs\": string \\ a potentially modified version of the original input\n",
    "}}}}\n",
    "```\n",
    "\n",
    "REMEMBER: \"destination\" MUST be one of the candidate prompt \\\n",
    "names specified below OR it can be \"DEFAULT\" if the input is not\\\n",
    "well suited for any of the candidate prompts.\n",
    "REMEMBER: \"next_inputs\" can just be the original input \\\n",
    "if you don't think any modifications are needed.\n",
    "\n",
    "<< CANDIDATE PROMPTS >>\n",
    "{destinations}\n",
    "\n",
    "<< INPUT >>\n",
    "{{input}}\n",
    "\n",
    "<< OUTPUT (remember to include the ```json)>>\"\"\""
   ]
  },
  {
   "cell_type": "code",
   "execution_count": 55,
   "id": "1387109d",
   "metadata": {},
   "outputs": [],
   "source": [
    "router_template = MULTI_PROMPT_ROUTER_TEMPLATE.format(\n",
    "    destinations=destinations_str\n",
    ")\n",
    "router_prompt = PromptTemplate(\n",
    "    template=router_template,\n",
    "    input_variables=[\"input\"],\n",
    "    output_parser=RouterOutputParser(),\n",
    ")\n",
    "\n",
    "router_chain = LLMRouterChain.from_llm(llm, router_prompt)"
   ]
  },
  {
   "cell_type": "code",
   "execution_count": 56,
   "id": "2fb7d560",
   "metadata": {},
   "outputs": [],
   "source": [
    "chain = MultiPromptChain(router_chain=router_chain, \n",
    "                         destination_chains=destination_chains, \n",
    "                         default_chain=default_chain, verbose=True\n",
    "                        )"
   ]
  },
  {
   "cell_type": "code",
   "execution_count": 42,
   "id": "d86b2131",
   "metadata": {},
   "outputs": [
    {
     "name": "stdout",
     "output_type": "stream",
     "text": [
      "\n",
      "\n",
      "\u001b[1m> Entering new MultiPromptChain chain...\u001b[0m\n",
      "physics: {'input': 'What is black body radiation?'}\n",
      "\u001b[1m> Finished chain.\u001b[0m\n"
     ]
    },
    {
     "data": {
      "text/plain": [
       "\"Black body radiation is the electromagnetic radiation emitted by a perfect absorber of radiation, known as a black body. A black body absorbs all radiation that falls on it and emits radiation across the entire electromagnetic spectrum. The spectrum of black body radiation is continuous and depends only on the temperature of the black body. This phenomenon is described by Planck's law, which states that the intensity of radiation emitted by a black body at a given wavelength is proportional to the temperature of the body and the wavelength raised to the fifth power.\""
      ]
     },
     "execution_count": 42,
     "metadata": {},
     "output_type": "execute_result"
    }
   ],
   "source": [
    "chain.run(\"What is black body radiation?\")"
   ]
  },
  {
   "cell_type": "code",
   "execution_count": 43,
   "id": "3b717379",
   "metadata": {},
   "outputs": [
    {
     "name": "stdout",
     "output_type": "stream",
     "text": [
      "\n",
      "\n",
      "\u001b[1m> Entering new MultiPromptChain chain...\u001b[0m\n",
      "math: {'input': 'what is 2 + 2'}\n",
      "\u001b[1m> Finished chain.\u001b[0m\n"
     ]
    },
    {
     "data": {
      "text/plain": [
       "'The answer to 2 + 2 is 4.'"
      ]
     },
     "execution_count": 43,
     "metadata": {},
     "output_type": "execute_result"
    }
   ],
   "source": [
    "chain.run(\"what is 2 + 2\")"
   ]
  },
  {
   "cell_type": "code",
   "execution_count": 57,
   "id": "29e5be01",
   "metadata": {},
   "outputs": [
    {
     "name": "stdout",
     "output_type": "stream",
     "text": [
      "\n",
      "\n",
      "\u001b[1m> Entering new MultiPromptChain chain...\u001b[0m\n",
      "biology: {'input': 'Why does every cell in our body contain DNA?'}\n",
      "\u001b[1m> Finished chain.\u001b[0m\n"
     ]
    },
    {
     "data": {
      "text/plain": [
       "'Every cell in our body contains DNA because DNA carries the genetic information that determines the characteristics of an organism. DNA contains the instructions for building and maintaining an organism, including how cells function, grow, and reproduce. This genetic information is essential for the proper functioning of cells and ultimately the entire organism. Additionally, DNA is passed down from parent to offspring, allowing for the transmission of genetic traits from one generation to the next.'"
      ]
     },
     "execution_count": 57,
     "metadata": {},
     "output_type": "execute_result"
    }
   ],
   "source": [
    "chain.run(\"Why does every cell in our body contain DNA?\")"
   ]
  },
  {
   "cell_type": "markdown",
   "id": "09e0c60b-7ae0-453e-9467-142d8dafee6e",
   "metadata": {},
   "source": [
    "**Repeat the above at least once for different inputs and chains executions - Be creative!**"
   ]
  },
  {
   "cell_type": "code",
   "execution_count": 46,
   "id": "5f88c6ce",
   "metadata": {},
   "outputs": [
    {
     "name": "stdout",
     "output_type": "stream",
     "text": [
      "\n",
      "\n",
      "\u001b[1m> Entering new MultiPromptChain chain...\u001b[0m\n",
      "physics: {'input': '¿Puedes explicar el principio de superposición cuántica y el experimento del gato de Schrödinger?'}\n",
      "\u001b[1m> Finished chain.\u001b[0m\n"
     ]
    },
    {
     "data": {
      "text/plain": [
       "'Claro, el principio de superposición cuántica es un concepto fundamental en la mecánica cuántica que establece que un sistema cuántico puede estar en múltiples estados al mismo tiempo hasta que se mide. Esto significa que un electrón, por ejemplo, puede estar en varios lugares al mismo tiempo antes de ser observado.\\n\\nEl experimento del gato de Schrödinger es un experimento mental propuesto por el físico Erwin Schrödinger para ilustrar el principio de superposición cuántica. En este experimento, un gato se coloca en una caja cerrada junto con un dispositivo que puede liberar un veneno letal. Según la mecánica cuántica, el gato estaría en un estado de superposición donde está vivo y muerto al mismo tiempo hasta que se abre la caja y se observa su estado.\\n\\nEs importante tener en cuenta que el experimento del gato de Schrödinger es un concepto teórico y no se ha realizado en la práctica. Se utiliza para resaltar las extrañas implicaciones de la mecánica cuántica y la superposición de estados.'"
      ]
     },
     "execution_count": 46,
     "metadata": {},
     "output_type": "execute_result"
    }
   ],
   "source": [
    "# Pregunta de física cuántica\n",
    "chain.run(\"¿Puedes explicar el principio de superposición cuántica y el experimento del gato de Schrödinger?\")\n"
   ]
  },
  {
   "cell_type": "code",
   "execution_count": 59,
   "id": "b0936f67",
   "metadata": {},
   "outputs": [
    {
     "name": "stdout",
     "output_type": "stream",
     "text": [
      "\n",
      "\n",
      "\u001b[1m> Entering new MultiPromptChain chain...\u001b[0m\n",
      "computer science: {'input': 'Explain how the QuickSort sorting algorithm works and its time complexity'}\n",
      "\u001b[1m> Finished chain.\u001b[0m\n"
     ]
    },
    {
     "data": {
      "text/plain": [
       "'QuickSort is a popular sorting algorithm that works by selecting a pivot element from the array and partitioning the other elements into two sub-arrays according to whether they are less than or greater than the pivot. The sub-arrays are then recursively sorted.\\n\\nHere is how the QuickSort algorithm works:\\n\\n1. Choose a pivot element from the array.\\n2. Partition the array into two sub-arrays: elements less than the pivot and elements greater than the pivot.\\n3. Recursively apply the QuickSort algorithm to the sub-arrays.\\n4. Combine the sorted sub-arrays to get the final sorted array.\\n\\nThe time complexity of QuickSort is O(n log n) on average, where n is the number of elements in the array. This is because in each recursive call, the array is divided into two sub-arrays of approximately equal size. The partitioning step takes O(n) time, and there are O(log n) levels of recursion. \\n\\nHowever, in the worst-case scenario where the pivot is consistently chosen as the smallest or largest element, the time complexity can degrade to O(n^2). This can be mitigated by choosing a random pivot or using a different pivot selection strategy, such as the median-of-three method.\\n\\nOverall, QuickSort is a fast and efficient sorting algorithm with good average-case performance.'"
      ]
     },
     "execution_count": 59,
     "metadata": {},
     "output_type": "execute_result"
    }
   ],
   "source": [
    "\n",
    "# Pregunta de computer science\n",
    "chain.run(\"Explica cómo funciona el algoritmo de ordenamiento QuickSort y su complejidad temporal\")\n"
   ]
  },
  {
   "cell_type": "code",
   "execution_count": 60,
   "id": "2977cf10",
   "metadata": {},
   "outputs": [
    {
     "name": "stdout",
     "output_type": "stream",
     "text": [
      "\n",
      "\n",
      "\u001b[1m> Entering new MultiPromptChain chain...\u001b[0m\n",
      "computer science: {'input': '¿Cómo se aplican los algoritmos genéticos en la optimización de problemas de física y qué relación tienen con la teoría de la evolución?'}\n",
      "\u001b[1m> Finished chain.\u001b[0m\n"
     ]
    },
    {
     "data": {
      "text/plain": [
       "'Los algoritmos genéticos se aplican en la optimización de problemas de física al utilizar conceptos inspirados en la teoría de la evolución para encontrar soluciones óptimas. En lugar de seguir un enfoque tradicional de optimización, donde se busca una solución específica, los algoritmos genéticos trabajan con una población de posibles soluciones y utilizan operadores genéticos como la selección, cruce y mutación para evolucionar y mejorar esas soluciones a lo largo de varias generaciones.\\n\\nLa relación con la teoría de la evolución radica en que los algoritmos genéticos se basan en el principio de la selección natural, donde las soluciones más aptas (aquellas que mejor se adaptan al problema) tienen más probabilidades de sobrevivir y reproducirse, transmitiendo sus características a las generaciones futuras. De esta manera, los algoritmos genéticos imitan el proceso evolutivo natural para encontrar soluciones óptimas a problemas de optimización en física.\\n\\nEn resumen, los algoritmos genéticos aplicados a problemas de física utilizan conceptos de la teoría de la evolución para buscar soluciones óptimas de manera eficiente y efectiva, permitiendo encontrar soluciones que pueden ser difíciles de alcanzar con métodos tradicionales de optimización.'"
      ]
     },
     "execution_count": 60,
     "metadata": {},
     "output_type": "execute_result"
    }
   ],
   "source": [
    "\n",
    "# Pregunta interdisciplinaria (veremos cómo el router maneja esto)\n",
    "chain.run(\"\"\"¿Cómo se aplican los algoritmos genéticos en la optimización de problemas \n",
    "          de física y qué relación tienen con la teoría de la evolución?\"\"\")\n"
   ]
  },
  {
   "cell_type": "code",
   "execution_count": 61,
   "id": "5df1be9a",
   "metadata": {},
   "outputs": [
    {
     "name": "stdout",
     "output_type": "stream",
     "text": [
      "\n",
      "\n",
      "\u001b[1m> Entering new MultiPromptChain chain...\u001b[0m\n",
      "computer science: {'input': '¿Puedes explicar cómo funcionan las redes neuronales convolucionales en el procesamiento de imágenes y su aplicación en la visión por computador?'}\n",
      "\u001b[1m> Finished chain.\u001b[0m\n"
     ]
    },
    {
     "data": {
      "text/plain": [
       "'Las redes neuronales convolucionales (CNN) son un tipo de red neuronal artificial que se inspira en la organización del sistema visual biológico de los animales. Estas redes son especialmente efectivas en el procesamiento de imágenes debido a su capacidad para capturar patrones espaciales en los datos.\\n\\nEn una CNN, las capas convolucionales son responsables de extraer características de las imágenes de entrada. Cada neurona en una capa convolucional está conectada solo a una región local de la imagen de entrada, lo que permite que la red capture patrones locales como bordes, texturas y formas. Estas capas convolucionales están seguidas por capas de pooling, que reducen la dimensionalidad de las características extraídas y ayudan a mejorar la invarianza a la translación de la red.\\n\\nUna vez que las características relevantes han sido extraídas, las capas completamente conectadas de la CNN se encargan de clasificar la imagen en una categoría específica. Durante el entrenamiento, la red ajusta los pesos de las conexiones entre las neuronas para minimizar la diferencia entre las predicciones de la red y las etiquetas reales de las imágenes de entrenamiento.\\n\\nEn la visión por computador, las CNN se utilizan en una amplia variedad de aplicaciones, como reconocimiento de objetos, detección de rostros, segmentación de imágenes y clasificación de escenas. Gracias a su capacidad para capturar patrones complejos en las imágenes, las CNN han demostrado ser extremadamente efectivas en tareas de visión por computador y han superado a métodos tradicionales en muchos casos.\\n\\nEn resumen, las redes neuronales convolucionales son una poderosa herramienta en el procesamiento de imágenes debido a su capacidad para capturar patrones espaciales en los datos y su aplicación en la visión por computador ha revolucionado la forma en que las computadoras pueden interpretar y comprender el contenido visual.'"
      ]
     },
     "execution_count": 61,
     "metadata": {},
     "output_type": "execute_result"
    }
   ],
   "source": [
    "\n",
    "# Pregunta de tecnología moderna\n",
    "chain.run(\"\"\"¿Puedes explicar cómo funcionan las redes neuronales convolucionales \n",
    "          en el procesamiento de imágenes y su aplicación en la visión por computador?\"\"\")"
   ]
  }
 ],
 "metadata": {
  "kernelspec": {
   "display_name": "LangChainWeek",
   "language": "python",
   "name": "python3"
  },
  "language_info": {
   "codemirror_mode": {
    "name": "ipython",
    "version": 3
   },
   "file_extension": ".py",
   "mimetype": "text/x-python",
   "name": "python",
   "nbconvert_exporter": "python",
   "pygments_lexer": "ipython3",
   "version": "3.9.21"
  }
 },
 "nbformat": 4,
 "nbformat_minor": 5
}
